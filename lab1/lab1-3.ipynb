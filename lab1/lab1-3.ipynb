{
 "cells": [
  {
   "cell_type": "code",
   "execution_count": null,
   "id": "acee14c0",
   "metadata": {},
   "outputs": [],
   "source": [
    "import cv2\n",
    "import numpy as np\n",
    "import math\n",
    "\n",
    "def scale(img, height, width, n):\n",
    "    newimg = np.zeros((height*n, width*n, 3), np.uint8)\n",
    "    for i in range(height-1):\n",
    "        for j in range(width-1):\n",
    "            for x in range(n):\n",
    "                for y in range(n):\n",
    "                    Lrange = x\n",
    "                    Rrange = n-x\n",
    "                    topCenter = (float(Rrange/n)*img[i,j]+float(Lrange/n)*img[i,j+1])\n",
    "                    downCenter = (float(Rrange/n)*img[i+1,j]+float(Lrange/n)*img[i+1,j+1])\n",
    "                    Trange = y\n",
    "                    Drange = n-y\n",
    "                    Center = (topCenter*Drange+downCenter*Trange)/n\n",
    "                    newimg[n*i+x,n*j+y] = Center\n",
    "    return newimg\n",
    "            \n",
    "\n",
    "\n",
    "image = cv2.imread(\"lisa.jpeg\")\n",
    "height, width, channels = image.shape\n",
    "\n",
    "\n",
    "newimg = scale(image,height,width,2)\n",
    "\n",
    "cv2.imwrite(\"output3.jpg\", newimg)\n",
    "cv2.imshow(\"new img\", newimg)\n",
    "cv2.waitKey(0)\n",
    "cv2.destroyAllWindows()"
   ]
  },
  {
   "cell_type": "code",
   "execution_count": null,
   "id": "0f10c79c",
   "metadata": {},
   "outputs": [],
   "source": []
  }
 ],
 "metadata": {
  "kernelspec": {
   "display_name": "Python 3 (ipykernel)",
   "language": "python",
   "name": "python3"
  },
  "language_info": {
   "codemirror_mode": {
    "name": "ipython",
    "version": 3
   },
   "file_extension": ".py",
   "mimetype": "text/x-python",
   "name": "python",
   "nbconvert_exporter": "python",
   "pygments_lexer": "ipython3",
   "version": "3.9.7"
  }
 },
 "nbformat": 4,
 "nbformat_minor": 5
}
